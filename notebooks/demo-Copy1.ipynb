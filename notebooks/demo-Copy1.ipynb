{
 "cells": [
  {
   "cell_type": "markdown",
   "metadata": {},
   "source": [
    "## Scraper Class Demo"
   ]
  },
  {
   "cell_type": "markdown",
   "metadata": {},
   "source": [
    "This notebook gives a walk through demo of the insta-scraper class. The notebook is not exhaustive, but all functions are documented. Please run this notebook from within the cloned git repository. The first step is to import the class. "
   ]
  },
  {
   "cell_type": "code",
   "execution_count": 1,
   "metadata": {},
   "outputs": [],
   "source": [
    "import sys\n",
    "sys.path.append(\"../\")\n",
    "from insta_scraper import scraper as s"
   ]
  },
  {
   "cell_type": "code",
   "execution_count": 2,
   "metadata": {},
   "outputs": [],
   "source": [
    "scraper = s.insta_scraper()"
   ]
  },
  {
   "cell_type": "markdown",
   "metadata": {},
   "source": [
    "## Data Collection"
   ]
  },
  {
   "cell_type": "markdown",
   "metadata": {},
   "source": [
    "### Login "
   ]
  },
  {
   "cell_type": "markdown",
   "metadata": {},
   "source": [
    "Start web driver and perform login. A path a valid path to driver must be supplied. This automatically performs insta login; a valid user name and password must be supplied. "
   ]
  },
  {
   "cell_type": "code",
   "execution_count": 3,
   "metadata": {},
   "outputs": [
    {
     "name": "stdin",
     "output_type": "stream",
     "text": [
      "insta username:  testburner25\n",
      "insta password:  ········\n"
     ]
    }
   ],
   "source": [
    "scraper.start_driver(\"../webdriver/win/chromedriver.exe\")"
   ]
  },
  {
   "cell_type": "markdown",
   "metadata": {},
   "source": [
    "### Set target account"
   ]
  },
  {
   "cell_type": "markdown",
   "metadata": {},
   "source": [
    "We set the list of accounts following our target account manually as the list takes a long time to collect. "
   ]
  },
  {
   "cell_type": "code",
   "execution_count": 7,
   "metadata": {},
   "outputs": [
    {
     "data": {
      "text/plain": [
       "['https://www.instagram.com/saurabhgupta07',\n",
       " 'https://www.instagram.com/johannydavalillo',\n",
       " 'https://www.instagram.com/yskandartakchi',\n",
       " 'https://www.instagram.com/hosseinkarimian01',\n",
       " 'https://www.instagram.com/djazairiaa_5',\n",
       " 'https://www.instagram.com/david3011',\n",
       " 'https://www.instagram.com/rexelpoland',\n",
       " 'https://www.instagram.com/gpope83',\n",
       " 'https://www.instagram.com/elena_antunes_670']"
      ]
     },
     "execution_count": 7,
     "metadata": {},
     "output_type": "execute_result"
    }
   ],
   "source": [
    "scraper.set_follower_list(\"../data/dopper_official.csv\", header = None, col_index = 0)\n",
    "scraper.target_follower_list[1:10]"
   ]
  },
  {
   "cell_type": "markdown",
   "metadata": {},
   "source": [
    "Next we navigate to the target account using the insta handle of the account we are interested in scraping."
   ]
  },
  {
   "cell_type": "code",
   "execution_count": 8,
   "metadata": {},
   "outputs": [],
   "source": [
    "scraper.target_accout(\"dopper_official\")"
   ]
  },
  {
   "cell_type": "markdown",
   "metadata": {},
   "source": [
    "Doing this also updates the target account meta data. "
   ]
  },
  {
   "cell_type": "code",
   "execution_count": 9,
   "metadata": {},
   "outputs": [
    {
     "name": "stdout",
     "output_type": "stream",
     "text": [
      "dopper_official\n"
     ]
    },
    {
     "data": {
      "text/plain": [
       "{'post': '1283', 'followers': '24.5k', 'following': '1558'}"
      ]
     },
     "execution_count": 9,
     "metadata": {},
     "output_type": "execute_result"
    }
   ],
   "source": [
    "print(scraper.target_handle)\n",
    "scraper.target_metadata"
   ]
  },
  {
   "cell_type": "markdown",
   "metadata": {},
   "source": [
    "### User data collection"
   ]
  },
  {
   "cell_type": "markdown",
   "metadata": {},
   "source": [
    "We first set the scraper to collect users interacting with post 1. "
   ]
  },
  {
   "cell_type": "code",
   "execution_count": 7,
   "metadata": {},
   "outputs": [],
   "source": [
    "scraper.scrape_post_data(1)"
   ]
  },
  {
   "cell_type": "code",
   "execution_count": 8,
   "metadata": {},
   "outputs": [
    {
     "data": {
      "text/html": [
       "<div>\n",
       "<style scoped>\n",
       "    .dataframe tbody tr th:only-of-type {\n",
       "        vertical-align: middle;\n",
       "    }\n",
       "\n",
       "    .dataframe tbody tr th {\n",
       "        vertical-align: top;\n",
       "    }\n",
       "\n",
       "    .dataframe thead th {\n",
       "        text-align: right;\n",
       "    }\n",
       "</style>\n",
       "<table border=\"1\" class=\"dataframe\">\n",
       "  <thead>\n",
       "    <tr style=\"text-align: right;\">\n",
       "      <th></th>\n",
       "      <th>follows_target</th>\n",
       "      <th>n_followers</th>\n",
       "      <th>n_following</th>\n",
       "      <th>n_posts</th>\n",
       "      <th>posts_over_time</th>\n",
       "      <th>bio</th>\n",
       "      <th>post_1_content</th>\n",
       "      <th>post_2_content</th>\n",
       "      <th>post_3_content</th>\n",
       "      <th>likes_post_1</th>\n",
       "      <th>comments_post_1</th>\n",
       "    </tr>\n",
       "  </thead>\n",
       "  <tbody>\n",
       "    <tr>\n",
       "      <th>geis.th</th>\n",
       "      <td>0</td>\n",
       "      <td>0</td>\n",
       "      <td>0</td>\n",
       "      <td>0</td>\n",
       "      <td>0</td>\n",
       "      <td>0</td>\n",
       "      <td>0</td>\n",
       "      <td>0</td>\n",
       "      <td>0</td>\n",
       "      <td>1</td>\n",
       "      <td>0</td>\n",
       "    </tr>\n",
       "    <tr>\n",
       "      <th>nickspapens</th>\n",
       "      <td>0</td>\n",
       "      <td>0</td>\n",
       "      <td>0</td>\n",
       "      <td>0</td>\n",
       "      <td>0</td>\n",
       "      <td>0</td>\n",
       "      <td>0</td>\n",
       "      <td>0</td>\n",
       "      <td>0</td>\n",
       "      <td>1</td>\n",
       "      <td>0</td>\n",
       "    </tr>\n",
       "    <tr>\n",
       "      <th>_.mam.v.pici._</th>\n",
       "      <td>0</td>\n",
       "      <td>0</td>\n",
       "      <td>0</td>\n",
       "      <td>0</td>\n",
       "      <td>0</td>\n",
       "      <td>0</td>\n",
       "      <td>0</td>\n",
       "      <td>0</td>\n",
       "      <td>0</td>\n",
       "      <td>1</td>\n",
       "      <td>0</td>\n",
       "    </tr>\n",
       "    <tr>\n",
       "      <th>bianca_loves_efteling</th>\n",
       "      <td>0</td>\n",
       "      <td>0</td>\n",
       "      <td>0</td>\n",
       "      <td>0</td>\n",
       "      <td>0</td>\n",
       "      <td>0</td>\n",
       "      <td>0</td>\n",
       "      <td>0</td>\n",
       "      <td>0</td>\n",
       "      <td>1</td>\n",
       "      <td>0</td>\n",
       "    </tr>\n",
       "    <tr>\n",
       "      <th>nils.0412</th>\n",
       "      <td>0</td>\n",
       "      <td>0</td>\n",
       "      <td>0</td>\n",
       "      <td>0</td>\n",
       "      <td>0</td>\n",
       "      <td>0</td>\n",
       "      <td>0</td>\n",
       "      <td>0</td>\n",
       "      <td>0</td>\n",
       "      <td>1</td>\n",
       "      <td>0</td>\n",
       "    </tr>\n",
       "  </tbody>\n",
       "</table>\n",
       "</div>"
      ],
      "text/plain": [
       "                      follows_target n_followers n_following n_posts  \\\n",
       "geis.th                            0           0           0       0   \n",
       "nickspapens                        0           0           0       0   \n",
       "_.mam.v.pici._                     0           0           0       0   \n",
       "bianca_loves_efteling              0           0           0       0   \n",
       "nils.0412                          0           0           0       0   \n",
       "\n",
       "                      posts_over_time bio post_1_content post_2_content  \\\n",
       "geis.th                             0   0              0              0   \n",
       "nickspapens                         0   0              0              0   \n",
       "_.mam.v.pici._                      0   0              0              0   \n",
       "bianca_loves_efteling               0   0              0              0   \n",
       "nils.0412                           0   0              0              0   \n",
       "\n",
       "                      post_3_content  likes_post_1  comments_post_1  \n",
       "geis.th                            0             1                0  \n",
       "nickspapens                        0             1                0  \n",
       "_.mam.v.pici._                     0             1                0  \n",
       "bianca_loves_efteling              0             1                0  \n",
       "nils.0412                          0             1                0  "
      ]
     },
     "execution_count": 8,
     "metadata": {},
     "output_type": "execute_result"
    }
   ],
   "source": [
    "scraper.df.head()"
   ]
  },
  {
   "cell_type": "code",
   "execution_count": 9,
   "metadata": {},
   "outputs": [
    {
     "name": "stdout",
     "output_type": "stream",
     "text": [
      "126 users have interacted with the posts scraper so far\n"
     ]
    }
   ],
   "source": [
    "print(\"{} users have interacted with the posts scraper so far\".format(len(scraper.df)))"
   ]
  },
  {
   "cell_type": "markdown",
   "metadata": {},
   "source": [
    "If we try to scrape post 1 again the scraper throws a warning. We can also retrieve a list of posts we have already scraped. "
   ]
  },
  {
   "cell_type": "code",
   "execution_count": 9,
   "metadata": {},
   "outputs": [
    {
     "name": "stdout",
     "output_type": "stream",
     "text": [
      "Taking you to dopper_official first ...\n"
     ]
    },
    {
     "data": {
      "text/plain": [
       "'Data for post 1 already collected'"
      ]
     },
     "execution_count": 9,
     "metadata": {},
     "output_type": "execute_result"
    }
   ],
   "source": [
    "scraper.scrape_post_data(1)"
   ]
  },
  {
   "cell_type": "code",
   "execution_count": 10,
   "metadata": {},
   "outputs": [
    {
     "data": {
      "text/plain": [
       "[1]"
      ]
     },
     "execution_count": 10,
     "metadata": {},
     "output_type": "execute_result"
    }
   ],
   "source": [
    "scraper.posts_scraped"
   ]
  },
  {
   "cell_type": "markdown",
   "metadata": {},
   "source": [
    "Scraping an additional post, we now see that columns for likes and interactions with this post have been added. "
   ]
  },
  {
   "cell_type": "code",
   "execution_count": 13,
   "metadata": {},
   "outputs": [],
   "source": [
    "scraper.scrape_post_data(3)"
   ]
  },
  {
   "cell_type": "code",
   "execution_count": 19,
   "metadata": {},
   "outputs": [
    {
     "data": {
      "text/html": [
       "<div>\n",
       "<style scoped>\n",
       "    .dataframe tbody tr th:only-of-type {\n",
       "        vertical-align: middle;\n",
       "    }\n",
       "\n",
       "    .dataframe tbody tr th {\n",
       "        vertical-align: top;\n",
       "    }\n",
       "\n",
       "    .dataframe thead th {\n",
       "        text-align: right;\n",
       "    }\n",
       "</style>\n",
       "<table border=\"1\" class=\"dataframe\">\n",
       "  <thead>\n",
       "    <tr style=\"text-align: right;\">\n",
       "      <th></th>\n",
       "      <th>follows_target</th>\n",
       "      <th>n_followers</th>\n",
       "      <th>n_following</th>\n",
       "      <th>n_posts</th>\n",
       "      <th>posts_over_time</th>\n",
       "      <th>bio</th>\n",
       "      <th>post_1_content</th>\n",
       "      <th>post_2_content</th>\n",
       "      <th>post_3_content</th>\n",
       "      <th>likes_post_1</th>\n",
       "      <th>comments_post_1</th>\n",
       "      <th>likes_post_3</th>\n",
       "      <th>comments_post_3</th>\n",
       "    </tr>\n",
       "  </thead>\n",
       "  <tbody>\n",
       "    <tr>\n",
       "      <th>ann_cathrin20</th>\n",
       "      <td>0</td>\n",
       "      <td>0</td>\n",
       "      <td>0</td>\n",
       "      <td>0</td>\n",
       "      <td>0</td>\n",
       "      <td>0</td>\n",
       "      <td>0</td>\n",
       "      <td>0</td>\n",
       "      <td>0</td>\n",
       "      <td>1</td>\n",
       "      <td>0</td>\n",
       "      <td>0</td>\n",
       "      <td>0</td>\n",
       "    </tr>\n",
       "    <tr>\n",
       "      <th>devil._li</th>\n",
       "      <td>0</td>\n",
       "      <td>0</td>\n",
       "      <td>0</td>\n",
       "      <td>0</td>\n",
       "      <td>0</td>\n",
       "      <td>0</td>\n",
       "      <td>0</td>\n",
       "      <td>0</td>\n",
       "      <td>0</td>\n",
       "      <td>1</td>\n",
       "      <td>0</td>\n",
       "      <td>0</td>\n",
       "      <td>0</td>\n",
       "    </tr>\n",
       "    <tr>\n",
       "      <th>benedettafaccani</th>\n",
       "      <td>0</td>\n",
       "      <td>0</td>\n",
       "      <td>0</td>\n",
       "      <td>0</td>\n",
       "      <td>0</td>\n",
       "      <td>0</td>\n",
       "      <td>0</td>\n",
       "      <td>0</td>\n",
       "      <td>0</td>\n",
       "      <td>1</td>\n",
       "      <td>0</td>\n",
       "      <td>0</td>\n",
       "      <td>0</td>\n",
       "    </tr>\n",
       "    <tr>\n",
       "      <th>noragerke</th>\n",
       "      <td>0</td>\n",
       "      <td>0</td>\n",
       "      <td>0</td>\n",
       "      <td>0</td>\n",
       "      <td>0</td>\n",
       "      <td>0</td>\n",
       "      <td>0</td>\n",
       "      <td>0</td>\n",
       "      <td>0</td>\n",
       "      <td>1</td>\n",
       "      <td>0</td>\n",
       "      <td>0</td>\n",
       "      <td>0</td>\n",
       "    </tr>\n",
       "    <tr>\n",
       "      <th>naomixxgriekspoor</th>\n",
       "      <td>0</td>\n",
       "      <td>0</td>\n",
       "      <td>0</td>\n",
       "      <td>0</td>\n",
       "      <td>0</td>\n",
       "      <td>0</td>\n",
       "      <td>0</td>\n",
       "      <td>0</td>\n",
       "      <td>0</td>\n",
       "      <td>1</td>\n",
       "      <td>0</td>\n",
       "      <td>0</td>\n",
       "      <td>0</td>\n",
       "    </tr>\n",
       "  </tbody>\n",
       "</table>\n",
       "</div>"
      ],
      "text/plain": [
       "                  follows_target n_followers n_following n_posts  \\\n",
       "ann_cathrin20                  0           0           0       0   \n",
       "devil._li                      0           0           0       0   \n",
       "benedettafaccani               0           0           0       0   \n",
       "noragerke                      0           0           0       0   \n",
       "naomixxgriekspoor              0           0           0       0   \n",
       "\n",
       "                  posts_over_time bio post_1_content post_2_content  \\\n",
       "ann_cathrin20                   0   0              0              0   \n",
       "devil._li                       0   0              0              0   \n",
       "benedettafaccani                0   0              0              0   \n",
       "noragerke                       0   0              0              0   \n",
       "naomixxgriekspoor               0   0              0              0   \n",
       "\n",
       "                  post_3_content  likes_post_1  comments_post_1  likes_post_3  \\\n",
       "ann_cathrin20                  0             1                0             0   \n",
       "devil._li                      0             1                0             0   \n",
       "benedettafaccani               0             1                0             0   \n",
       "noragerke                      0             1                0             0   \n",
       "naomixxgriekspoor              0             1                0             0   \n",
       "\n",
       "                  comments_post_3  \n",
       "ann_cathrin20                   0  \n",
       "devil._li                       0  \n",
       "benedettafaccani                0  \n",
       "noragerke                       0  \n",
       "naomixxgriekspoor               0  "
      ]
     },
     "execution_count": 19,
     "metadata": {},
     "output_type": "execute_result"
    }
   ],
   "source": [
    "scraper.df.head()"
   ]
  },
  {
   "cell_type": "code",
   "execution_count": 24,
   "metadata": {},
   "outputs": [
    {
     "name": "stdout",
     "output_type": "stream",
     "text": [
      "224 users have interacted with the posts scraper so far\n"
     ]
    }
   ],
   "source": [
    "print(\"{} users have interacted with the posts scraper so far\".format(len(scraper.df)))"
   ]
  },
  {
   "cell_type": "markdown",
   "metadata": {},
   "source": [
    "### User data preprocessing"
   ]
  },
  {
   "cell_type": "code",
   "execution_count": 17,
   "metadata": {},
   "outputs": [],
   "source": [
    "scraper.scrape_user_data()"
   ]
  }
 ],
 "metadata": {
  "kernelspec": {
   "display_name": "Python 3",
   "language": "python",
   "name": "python3"
  },
  "language_info": {
   "codemirror_mode": {
    "name": "ipython",
    "version": 3
   },
   "file_extension": ".py",
   "mimetype": "text/x-python",
   "name": "python",
   "nbconvert_exporter": "python",
   "pygments_lexer": "ipython3",
   "version": "3.7.6"
  }
 },
 "nbformat": 4,
 "nbformat_minor": 4
}
